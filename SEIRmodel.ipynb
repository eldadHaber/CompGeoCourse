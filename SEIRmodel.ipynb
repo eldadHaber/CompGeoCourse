{
  "nbformat": 4,
  "nbformat_minor": 0,
  "metadata": {
    "colab": {
      "name": "SEIRmodel.ipynb",
      "provenance": []
    },
    "kernelspec": {
      "name": "python3",
      "display_name": "Python 3"
    },
    "language_info": {
      "name": "python"
    }
  },
  "cells": [
    {
      "cell_type": "code",
      "metadata": {
        "id": "IT9umR2OBajD"
      },
      "source": [
        "  %matplotlib inline\n",
        "import numpy as np\n",
        "import matplotlib.pyplot as plt\n",
        "import torch\n",
        "import torch.nn as nn\n",
        "import torch.nn.functional as F\n",
        "import pandas as pd\n",
        "import torch.optim as optim\n"
      ],
      "execution_count": null,
      "outputs": []
    },
    {
      "cell_type": "code",
      "metadata": {
        "colab": {
          "base_uri": "https://localhost:8080/"
        },
        "id": "H1vwwTguBlX7",
        "outputId": "d1a7f351-5fa6-4af4-983d-6014b98738ea"
      },
      "source": [
        "# Open data from URL using pandas\n",
        "url = 'https://health-infobase.canada.ca/src/data/covidLive/covid19-download.csv' \n",
        "\n",
        "df = pd.read_csv(url)\n",
        " \n",
        "# This is what the data looks like \n",
        "print(df)\n"
      ],
      "execution_count": null,
      "outputs": [
        {
          "output_type": "stream",
          "text": [
            "      pruid                  prname  ... avgdeaths_last7 avgratedeaths_last7\n",
            "0        35                 Ontario  ...             NaN                 NaN\n",
            "1        59        British Columbia  ...             NaN                 NaN\n",
            "2         1                  Canada  ...             NaN                 NaN\n",
            "3        35                 Ontario  ...             NaN                 NaN\n",
            "4        59        British Columbia  ...             NaN                 NaN\n",
            "...     ...                     ...  ...             ...                 ...\n",
            "5947     60                   Yukon  ...             0.0                0.00\n",
            "5948     61   Northwest Territories  ...             0.0                0.00\n",
            "5949     62                 Nunavut  ...             0.0                0.00\n",
            "5950     99  Repatriated travellers  ...             0.0                 NaN\n",
            "5951      1                  Canada  ...            31.0                0.08\n",
            "\n",
            "[5952 rows x 39 columns]\n"
          ],
          "name": "stdout"
        }
      ]
    },
    {
      "cell_type": "code",
      "metadata": {
        "colab": {
          "base_uri": "https://localhost:8080/"
        },
        "id": "aSSQ-0v4Br3V",
        "outputId": "694163c9-db97-42d0-b056-d9ca3debcf8e"
      },
      "source": [
        "# Extract data for BC \n",
        "D = df[\"prname\"]\n",
        "A = df.loc[df['prname'] == \"British Columbia\"]\n",
        "print(A.columns)\n"
      ],
      "execution_count": null,
      "outputs": [
        {
          "output_type": "stream",
          "text": [
            "Index(['pruid', 'prname', 'prnameFR', 'date', 'update', 'numconf', 'numprob',\n",
            "       'numdeaths', 'numtotal', 'numtested', 'numtests', 'numrecover',\n",
            "       'percentrecover', 'ratetested', 'ratetests', 'numtoday', 'percentoday',\n",
            "       'ratetotal', 'ratedeaths', 'numdeathstoday', 'percentdeath',\n",
            "       'numtestedtoday', 'numteststoday', 'numrecoveredtoday', 'percentactive',\n",
            "       'numactive', 'rateactive', 'numtotal_last14', 'ratetotal_last14',\n",
            "       'numdeaths_last14', 'ratedeaths_last14', 'numtotal_last7',\n",
            "       'ratetotal_last7', 'numdeaths_last7', 'ratedeaths_last7',\n",
            "       'avgtotal_last7', 'avgincidence_last7', 'avgdeaths_last7',\n",
            "       'avgratedeaths_last7'],\n",
            "      dtype='object')\n"
          ],
          "name": "stdout"
        }
      ]
    },
    {
      "cell_type": "code",
      "metadata": {
        "colab": {
          "base_uri": "https://localhost:8080/",
          "height": 283
        },
        "id": "QsXdEwx9Bw2f",
        "outputId": "8ea8e9a5-72e8-408a-a17a-e1d038a9a0bd"
      },
      "source": [
        "# Take the date column\n",
        "T = A.date\n",
        "# Convert it to dtype date\n",
        "T = pd.to_datetime(T)\n",
        "# Make it day number\n",
        "base_date = T.min()\n",
        "t = T.map(lambda date : (pd.Timestamp(date) - base_date).days )\n",
        "\n",
        "# get the number of confirmed cases per day \n",
        "Iobs = pd.to_numeric(A.numactive)\n",
        "\n",
        "t = t.to_numpy()\n",
        "Iobs = Iobs.to_numpy()\n",
        "# Normalize S relative to exposed BC pop\n",
        "Iobs = Iobs/1e6\n",
        "# plot the number of active cases\n",
        "plt.plot(t,Iobs)\n"
      ],
      "execution_count": null,
      "outputs": [
        {
          "output_type": "execute_result",
          "data": {
            "text/plain": [
              "[<matplotlib.lines.Line2D at 0x7fbbb2848dd0>]"
            ]
          },
          "metadata": {
            "tags": []
          },
          "execution_count": 5
        },
        {
          "output_type": "display_data",
          "data": {
            "image/png": "[encoded data removed]",
            "text/plain": [
              "<Figure size 432x288 with 1 Axes>"
            ]
          },
          "metadata": {
            "tags": [],
            "needs_background": "light"
          }
        }
      ]
    },
    {
      "cell_type": "code",
      "metadata": {
        "id": "3Uq-lkwLB1A9"
      },
      "source": [
        "def SEIRmodel(S0,E0,I0,beta,gamma,mu,a,n,dt):\n",
        "\n",
        "  SS = torch.zeros(n+1,dtype=torch.float32)\n",
        "  II = torch.zeros(n+1,dtype=torch.float32)\n",
        "  EE = torch.zeros(n+1,dtype=torch.float32)\n",
        "  t = torch.zeros(n+1,dtype=torch.float32)\n",
        "  \n",
        "  beta = torch.relu(beta)\n",
        "  S = S0\n",
        "  I = I0\n",
        "  E = E0\n",
        "  SS[0] = 1.0*S\n",
        "  II[0] = 1.0*I\n",
        "  EE[0] = 1.0*E\n",
        "  \n",
        "  for i in range(1,n+1):\n",
        "    # S[i+1] - S[i] = dt*(mu*N - mu*S - beta*S*I). (Assume N=1)\n",
        "    # E[i+1] - E[i] = dt*beta*S*I - dt*(mu+a)*E\n",
        "    # I[i+1] - I[i] = dt*a*E - dt*(mu+gamma)*I\n",
        "    Sold = S\n",
        "    Eold = E\n",
        "    S = S - dt*beta[i-1]*S*I + dt*mu*(1.0 - S)\n",
        "    E = E + dt*beta[i-1]*Sold*I - dt*(mu+a)*Eold\n",
        "    I = I + dt*a*Eold - dt*(mu+gamma)*I\n",
        "    t[i]  = t[i-1] + dt\n",
        "    SS[i] = S\n",
        "    II[i] = I\n",
        "    EE[i] = E\n",
        "    \n",
        "  return SS, II, EE, t"
      ],
      "execution_count": null,
      "outputs": []
    },
    {
      "cell_type": "code",
      "metadata": {
        "colab": {
          "base_uri": "https://localhost:8080/",
          "height": 300
        },
        "id": "-ZJnp8qDFlHZ",
        "outputId": "55127029-8e17-4595-fd43-5dc5d6c1e2e0"
      },
      "source": [
        "S0 = 0.99998\n",
        "E0 = 0.00001\n",
        "I0 = 0.00001\n",
        "n  = Iobs.shape[0]\n",
        "\n",
        "beta  = 0.8*torch.ones(n,dtype=torch.float32)\n",
        "gamma = 0.0015\n",
        "mu    = 0.00001\n",
        "a     = 0.00105\n",
        "dt    = 1.0\n",
        "\n",
        "Sc, Ic, Ec, tc = SEIRmodel(S0,E0,I0,beta,gamma,mu,a,n,dt)\n",
        "plt.plot(tc[:280],Ic[:280].detach(),tc[:280],Iobs[:280])\n",
        "#plt.plot(tc[:280],Ic[:280].detach())\n"
      ],
      "execution_count": null,
      "outputs": [
        {
          "output_type": "execute_result",
          "data": {
            "text/plain": [
              "[<matplotlib.lines.Line2D at 0x7fbb5911af50>,\n",
              " <matplotlib.lines.Line2D at 0x7fbb59126190>]"
            ]
          },
          "metadata": {
            "tags": []
          },
          "execution_count": 14
        },
        {
          "output_type": "display_data",
          "data": {
            "image/png": "[encoded data removed]",
            "text/plain": [
              "<Figure size 432x288 with 1 Axes>"
            ]
          },
          "metadata": {
            "tags": [],
            "needs_background": "light"
          }
        }
      ]
    },
    {
      "cell_type": "code",
      "metadata": {
        "colab": {
          "base_uri": "https://localhost:8080/"
        },
        "id": "fejHlA_AGwSs",
        "outputId": "5a3115ac-468a-4677-bf33-52c5472d865a"
      },
      "source": [
        "#beta  = 0.8*torch.ones(n,dtype=torch.float32)\n",
        "gamma = 0.0015\n",
        "mu    = 0.00001\n",
        "a     = 0.00105\n",
        "dt    = 1.0\n",
        "numiter = 10\n",
        "\n",
        "# Make the data torch variable\n",
        "Iobs = torch.tensor(Iobs,dtype=torch.float32)\n",
        "N = torch.numel(Iobs)-1\n",
        "# step size (for gradient descent)\n",
        "delta      = 1e-3\n",
        "\n",
        "numiter = 10000\n",
        "\n",
        "for i in range(numiter):\n",
        "    #  compute function and its gradient\n",
        "    I0 = Iobs[0]\n",
        "    S0 =  1.0-I0\n",
        "    \n",
        "    # Make beta a parameter that we can compute gradients \n",
        "    beta = torch.tensor(beta, requires_grad=True)\n",
        "    # Evaluate the objective function\n",
        "    Sc, Ic, Ec, tc = SEIRmodel(S0,E0,I0,beta,gamma,mu,a,N,dt)\n",
        "    # loss = torch.norm(Ic-Iobs)**2/torch.norm(Iobs)**2\n",
        "    loss = F.mse_loss(Ic,Iobs)/F.mse_loss(Iobs*0,Iobs)\n",
        "    \n",
        "    # Compute gradients\n",
        "    loss.backward()\n",
        "    gradLoss = beta.grad\n",
        "    # update the parameters\n",
        "    with torch.no_grad():\n",
        "      beta -= delta*gradLoss\n",
        "      \n",
        "      \n",
        "    if i%100==1:\n",
        "      print(i, loss.item(), torch.norm(gradLoss).item())\n",
        "    "
      ],
      "execution_count": null,
      "outputs": [
        {
          "output_type": "stream",
          "text": [
            "/usr/local/lib/python3.7/dist-packages/ipykernel_launcher.py:9: UserWarning: To copy construct from a tensor, it is recommended to use sourceTensor.clone().detach() or sourceTensor.clone().detach().requires_grad_(True), rather than torch.tensor(sourceTensor).\n",
            "  if __name__ == '__main__':\n",
            "/usr/local/lib/python3.7/dist-packages/ipykernel_launcher.py:22: UserWarning: To copy construct from a tensor, it is recommended to use sourceTensor.clone().detach() or sourceTensor.clone().detach().requires_grad_(True), rather than torch.tensor(sourceTensor).\n"
          ],
          "name": "stderr"
        },
        {
          "output_type": "stream",
          "text": [
            "1 0.6269992589950562 0.06165774166584015\n",
            "101 0.6266237497329712 0.060931842774152756\n",
            "201 0.6262565851211548 0.06021888926625252\n",
            "301 0.6258983016014099 0.05952029302716255\n",
            "401 0.625548243522644 0.05883466452360153\n",
            "501 0.6252056360244751 0.05816081538796425\n",
            "601 0.6248713731765747 0.05750066041946411\n",
            "701 0.6245447397232056 0.056853048503398895\n",
            "801 0.6242247223854065 0.05621643364429474\n",
            "901 0.6239120364189148 0.05559169873595238\n",
            "1001 0.6236063241958618 0.05497853457927704\n",
            "1101 0.6233074069023132 0.05437715724110603\n",
            "1201 0.6230149269104004 0.05378663167357445\n",
            "1301 0.6227290630340576 0.05320759117603302\n",
            "1401 0.6224486231803894 0.05263777822256088\n",
            "1501 0.6221747994422913 0.05207977816462517\n",
            "1601 0.6219063401222229 0.05153103172779083\n",
            "1701 0.6216437220573425 0.05099257826805115\n",
            "1801 0.6213863492012024 0.050463784486055374\n",
            "1901 0.6211342215538025 0.049944497644901276\n",
            "2001 0.620887279510498 0.04943424090743065\n",
            "2101 0.6206454038619995 0.04893366992473602\n",
            "2201 0.6204083561897278 0.04844176769256592\n",
            "2301 0.6201760768890381 0.047959085553884506\n",
            "2401 0.619948148727417 0.0474843792617321\n",
            "2501 0.6197248101234436 0.047018785029649734\n",
            "2601 0.6195057034492493 0.04656096175312996\n",
            "2701 0.6192911863327026 0.04611207917332649\n",
            "2801 0.6190803647041321 0.04567025229334831\n",
            "2901 0.6188738346099854 0.045236922800540924\n",
            "3001 0.618671178817749 0.04481158033013344\n",
            "3101 0.6184719800949097 0.04439263418316841\n",
            "3201 0.6182770729064941 0.04398288577795029\n",
            "3301 0.6180855631828308 0.04357969015836716\n",
            "3401 0.6178973317146301 0.04318344593048096\n",
            "3501 0.6177123785018921 0.04279416799545288\n",
            "3601 0.6175307631492615 0.04241097718477249\n",
            "3701 0.6173526644706726 0.04203598573803902\n",
            "3801 0.617177426815033 0.04166693985462189\n",
            "3901 0.6170053482055664 0.0413040965795517\n",
            "4001 0.6168363094329834 0.04094889014959335\n",
            "4101 0.6166697144508362 0.04059839993715286\n",
            "4201 0.6165063381195068 0.040254801511764526\n",
            "4301 0.6163456439971924 0.039917636662721634\n",
            "4401 0.6161876320838928 0.03958559036254883\n",
            "4501 0.6160321831703186 0.03926011547446251\n",
            "4601 0.6158796548843384 0.03894083946943283\n",
            "4701 0.6157289147377014 0.038625624030828476\n",
            "4801 0.6155810356140137 0.03831733018159866\n",
            "4901 0.6154354214668274 0.03801456466317177\n",
            "5001 0.6152920126914978 0.037716131657361984\n",
            "5101 0.6151508092880249 0.03742341324687004\n",
            "5201 0.6150120496749878 0.03713672608137131\n",
            "5301 0.6148747801780701 0.03685333579778671\n",
            "5401 0.6147401332855225 0.03657582029700279\n",
            "5501 0.6146073937416077 0.036303818225860596\n",
            "5601 0.6144765615463257 0.03603634238243103\n",
            "5701 0.6143476366996765 0.035772860050201416\n",
            "5801 0.6142205595970154 0.03551486134529114\n",
            "5901 0.6140955686569214 0.03526201471686363\n",
            "6001 0.6139718890190125 0.03501215577125549\n",
            "6101 0.6138499975204468 0.034766726195812225\n",
            "6201 0.6137300729751587 0.0345270149409771\n",
            "6301 0.6136119365692139 0.034291740506887436\n",
            "6401 0.6134949922561646 0.03405926004052162\n",
            "6501 0.6133797764778137 0.033831022679805756\n",
            "6601 0.6132659912109375 0.033607691526412964\n",
            "6701 0.6131538152694702 0.033388394862413406\n",
            "6801 0.6130430698394775 0.03317229077219963\n",
            "6901 0.6129337549209595 0.032960131764411926\n",
            "7001 0.6128258109092712 0.032752662897109985\n",
            "7101 0.6127192378044128 0.03254871442914009\n",
            "7201 0.6126139163970947 0.032347917556762695\n",
            "7301 0.6125097870826721 0.03215006738901138\n",
            "7401 0.6124070286750793 0.03195716813206673\n",
            "7501 0.6123055815696716 0.03176764398813248\n",
            "7601 0.6122052073478699 0.031581148505210876\n",
            "7701 0.6121059060096741 0.03139694780111313\n",
            "7801 0.6120082139968872 0.031217608600854874\n",
            "7901 0.6119112372398376 0.031041741371154785\n",
            "8001 0.6118153929710388 0.030868466943502426\n",
            "8101 0.6117205023765564 0.030698001384735107\n",
            "8201 0.6116266846656799 0.030529947951436043\n",
            "8301 0.6115339994430542 0.030366431921720505\n",
            "8401 0.6114423871040344 0.030206317082047462\n",
            "8501 0.6113517880439758 0.030048580840229988\n",
            "8601 0.6112616658210754 0.02989274263381958\n",
            "8701 0.6111729145050049 0.02973981574177742\n",
            "8801 0.6110849380493164 0.02959093451499939\n",
            "8901 0.6109976768493652 0.02944459393620491\n",
            "9001 0.6109116077423096 0.029300974681973457\n",
            "9101 0.6108260154724121 0.02915954776108265\n",
            "9201 0.610741376876831 0.02902017906308174\n",
            "9301 0.6106575727462769 0.028884103521704674\n",
            "9401 0.61057448387146 0.028750872239470482\n",
            "9501 0.6104925274848938 0.028620731085538864\n",
            "9601 0.6104108095169067 0.028492117300629616\n",
            "9701 0.6103299260139465 0.028365284204483032\n",
            "9801 0.6102498173713684 0.028240865096449852\n",
            "9901 0.6101703643798828 0.028119850903749466\n"
          ],
          "name": "stdout"
        }
      ]
    },
    {
      "cell_type": "code",
      "metadata": {
        "colab": {
          "base_uri": "https://localhost:8080/",
          "height": 300
        },
        "id": "NV7PXcIiMN7D",
        "outputId": "9df1e2d4-66f2-46b0-92d8-bae193e910d9"
      },
      "source": [
        "plt.plot(tc[:400],Ic[:400].detach(),tc[:400],Iobs[:400])\n"
      ],
      "execution_count": null,
      "outputs": [
        {
          "output_type": "execute_result",
          "data": {
            "text/plain": [
              "[<matplotlib.lines.Line2D at 0x7fbb592eabd0>,\n",
              " <matplotlib.lines.Line2D at 0x7fbb5923b350>]"
            ]
          },
          "metadata": {
            "tags": []
          },
          "execution_count": 22
        },
        {
          "output_type": "display_data",
          "data": {
            "image/png": "[encoded data removed]",
            "text/plain": [
              "<Figure size 432x288 with 1 Axes>"
            ]
          },
          "metadata": {
            "tags": [],
            "needs_background": "light"
          }
        }
      ]
    },
    {
      "cell_type": "code",
      "metadata": {
        "id": "Cg1P4TSwMXiD"
      },
      "source": [
        ""
      ],
      "execution_count": null,
      "outputs": []
    }
  ]
}