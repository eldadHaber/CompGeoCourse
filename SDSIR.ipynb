{
  "nbformat": 4,
  "nbformat_minor": 0,
  "metadata": {
    "colab": {
      "name": "SDSIR.ipynb",
      "provenance": [],
      "collapsed_sections": []
    },
    "kernelspec": {
      "display_name": "Python 3",
      "language": "python",
      "name": "python3"
    },
    "language_info": {
      "codemirror_mode": {
        "name": "ipython",
        "version": 3
      },
      "file_extension": ".py",
      "mimetype": "text/x-python",
      "name": "python",
      "nbconvert_exporter": "python",
      "pygments_lexer": "ipython3",
      "version": "3.7.4"
    }
  },
  "cells": [
    {
      "cell_type": "code",
      "metadata": {
        "id": "zahep6GGIzvs"
      },
      "source": [
        "%matplotlib inline\n",
        "import numpy as np\n",
        "import matplotlib.pyplot as plt\n",
        "import torch\n",
        "import torch.nn as nn\n",
        "import torch.nn.functional as F\n",
        "import pandas as pd\n",
        "import torch.optim as optim\n",
        "\n",
        "# Make everything double precision\n",
        "#torch.set_default_tensor_type(torch.DoubleTensor)"
      ],
      "execution_count": 1,
      "outputs": []
    },
    {
      "cell_type": "markdown",
      "metadata": {
        "id": "FWsSuqbbI_nh"
      },
      "source": [
        "**Motivation and problem setup**\n",
        "\n",
        "So far in the course we have seen two models: \n",
        "\n",
        "***propagation of Corona***\n",
        "$$ S_t = -\\beta SI \\quad {\\rm and} \\quad I_t = \\beta SI - \\gamma I $$\n",
        "where $S$ is the precent of susceptible and $I$ is percent of infected people.\n",
        "\n",
        "***Particle flow*** \n",
        "$$ x_t = u(x,y) \\quad {\\rm and} \\quad y_t = v(x,y) $$\n",
        "where $u$ and $v$ are functions.\n",
        "\n",
        "For both models we have solved the dynamics (that is $S(t),I(t)$ and $x(t), y(t)$) given the initial conditions and the ODE parameters, namely $\\beta$ and $\\gamma$ for the SI model and $u,v$ for the particle flow model. \n",
        "\n",
        "However, in reality we rarely have the \"true\" parameters of the ODE we are after. Therefore, it is impossible in most cases to have a predictive model before observing some real data.\n",
        "\n",
        "We consider the data of the number of COVID dases in BC"
      ]
    },
    {
      "cell_type": "markdown",
      "metadata": {
        "id": "BAFZT9Pi76Eq"
      },
      "source": [
        "**Loading and plotting COVID data using pandas**\n",
        "\n",
        "We now load and plot COVID data. We use pandas for dealing with the csv file. pandas is a python package that handels many types of data. It is particularly suited to deal with text data."
      ]
    },
    {
      "cell_type": "code",
      "metadata": {
        "colab": {
          "base_uri": "https://localhost:8080/"
        },
        "id": "iRQ4u2-NVBAu",
        "outputId": "abf336ac-182d-46f9-db06-ea9ed7bb80d5"
      },
      "source": [
        "# Open data from URL using pandas\n",
        "url = 'https://health-infobase.canada.ca/src/data/covidLive/covid19-download.csv' \n",
        "\n",
        "df = pd.read_csv(url)\n",
        " \n",
        "# This is what the data looks like \n",
        "print(df)\n"
      ],
      "execution_count": 2,
      "outputs": [
        {
          "output_type": "stream",
          "text": [
            "      pruid                  prname  ... avgdeaths_last7 avgratedeaths_last7\n",
            "0        35                 Ontario  ...             NaN                 NaN\n",
            "1        59        British Columbia  ...             NaN                 NaN\n",
            "2         1                  Canada  ...             NaN                 NaN\n",
            "3        35                 Ontario  ...             NaN                 NaN\n",
            "4        59        British Columbia  ...             NaN                 NaN\n",
            "...     ...                     ...  ...             ...                 ...\n",
            "5842     60                   Yukon  ...             0.0                0.00\n",
            "5843     61   Northwest Territories  ...             0.0                0.00\n",
            "5844     62                 Nunavut  ...             0.0                0.00\n",
            "5845     99  Repatriated travellers  ...             0.0                 NaN\n",
            "5846      1                  Canada  ...            29.0                0.08\n",
            "\n",
            "[5847 rows x 39 columns]\n"
          ],
          "name": "stdout"
        }
      ]
    },
    {
      "cell_type": "code",
      "metadata": {
        "colab": {
          "base_uri": "https://localhost:8080/"
        },
        "id": "S_4l3FAuAtLY",
        "outputId": "da996463-01cf-4258-fabd-15bf05ba7e5f"
      },
      "source": [
        "# Extract data for BC \n",
        "D = df[\"prname\"]\n",
        "A = df.loc[df['prname'] == \"British Columbia\"]\n",
        "print(A.columns)\n"
      ],
      "execution_count": 3,
      "outputs": [
        {
          "output_type": "stream",
          "text": [
            "Index(['pruid', 'prname', 'prnameFR', 'date', 'update', 'numconf', 'numprob',\n",
            "       'numdeaths', 'numtotal', 'numtested', 'numtests', 'numrecover',\n",
            "       'percentrecover', 'ratetested', 'ratetests', 'numtoday', 'percentoday',\n",
            "       'ratetotal', 'ratedeaths', 'numdeathstoday', 'percentdeath',\n",
            "       'numtestedtoday', 'numteststoday', 'numrecoveredtoday', 'percentactive',\n",
            "       'numactive', 'rateactive', 'numtotal_last14', 'ratetotal_last14',\n",
            "       'numdeaths_last14', 'ratedeaths_last14', 'numtotal_last7',\n",
            "       'ratetotal_last7', 'numdeaths_last7', 'ratedeaths_last7',\n",
            "       'avgtotal_last7', 'avgincidence_last7', 'avgdeaths_last7',\n",
            "       'avgratedeaths_last7'],\n",
            "      dtype='object')\n"
          ],
          "name": "stdout"
        }
      ]
    },
    {
      "cell_type": "code",
      "metadata": {
        "colab": {
          "base_uri": "https://localhost:8080/",
          "height": 282
        },
        "id": "FJE08BZIr-NK",
        "outputId": "5ea88797-66e7-4418-d91c-cbeed7417c14"
      },
      "source": [
        "# Take the date column\n",
        "T = A.date\n",
        "# Convert it to dtype date\n",
        "T = pd.to_datetime(T)\n",
        "# Make it day number\n",
        "base_date = T.min()\n",
        "t = T.map(lambda date : (pd.Timestamp(date) - base_date).days )\n",
        "\n",
        "# get the number of confirmed cases per day \n",
        "Iobs = pd.to_numeric(A.numactive)\n",
        "\n",
        "t = t.to_numpy()\n",
        "Iobs = Iobs.to_numpy()\n",
        "# Normalize S relative to exposed BC pop\n",
        "Iobs = Iobs/1e6\n",
        "# plot the number of active cases\n",
        "plt.plot(t,Iobs)\n"
      ],
      "execution_count": 4,
      "outputs": [
        {
          "output_type": "execute_result",
          "data": {
            "text/plain": [
              "[<matplotlib.lines.Line2D at 0x7f33e749f610>]"
            ]
          },
          "metadata": {
            "tags": []
          },
          "execution_count": 4
        },
        {
          "output_type": "display_data",
          "data": {
            "image/png": "[encoded data removed]",
            "text/plain": [
              "<Figure size 432x288 with 1 Axes>"
            ]
          },
          "metadata": {
            "tags": [],
            "needs_background": "light"
          }
        }
      ]
    },
    {
      "cell_type": "markdown",
      "metadata": {
        "id": "LU3oHWwtktuN"
      },
      "source": [
        "**Comparing the data to simulation**\n",
        "\n",
        "Now when we have the data we can compare it to the SIR model. To this end we use the simulation we generated previously. Below is the forward Euler discretization applied to the SIR model, assuming some parameters $\\beta$ and $\\gamma$. \n",
        "\n",
        "Note that while we assume that $\\gamma$ is fixed, $\\beta$ can change. Recall that $\\beta$ describes the interaction between succeptible and infected people. Such interaction can change when we apply masks or social distancing."
      ]
    },
    {
      "cell_type": "code",
      "metadata": {
        "id": "27C3lv7zXnWY"
      },
      "source": [
        "def SIRmodel(S0,I0,beta,gamma,n,dt):\n",
        "\n",
        "  SS = torch.zeros(n+1,dtype=torch.float32)\n",
        "  II = torch.zeros(n+1,dtype=torch.float32)\n",
        "  t = torch.zeros(n+1,dtype=torch.float32)\n",
        "  \n",
        "  beta = torch.relu(beta)\n",
        "  S = S0\n",
        "  I = I0\n",
        "  SS[0] = 1.0*S\n",
        "  II[0] = 1.0*I\n",
        "  for i in range(1,n+1):\n",
        "    Sold = S\n",
        "    S = S - dt*beta[i-1]*S*I\n",
        "    I = (1.0 + dt*beta[i-1]*Sold - dt*gamma)*I\n",
        "    t[i]  = t[i-1] + dt\n",
        "    SS[i] = S\n",
        "    II[i] = I\n",
        "    \n",
        "  return SS, II, t"
      ],
      "execution_count": 5,
      "outputs": []
    },
    {
      "cell_type": "markdown",
      "metadata": {
        "id": "7cMT1Pknlp2q"
      },
      "source": [
        "Next we run the simulation and plot it together with the true data. We can play with parameters, namely $\\beta$ and $\\gamma$ to see how well we can the simulation predict the real data. You can see that it is actually quite difficult to do so when playing with the parameters manually."
      ]
    },
    {
      "cell_type": "code",
      "metadata": {
        "colab": {
          "base_uri": "https://localhost:8080/",
          "height": 301
        },
        "id": "u9b9lcUgY2eb",
        "outputId": "1032b173-423b-45af-8f35-adf1453543b4"
      },
      "source": [
        "\n",
        "S0 = 0.99999\n",
        "I0 = 0.00001\n",
        "n  = Iobs.shape[0]\n",
        "\n",
        "beta = 0.04*torch.ones(n,dtype=torch.float32)\n",
        "gamma = 0.015\n",
        "Sc, Ic, tc = SIRmodel(S0,I0,beta,gamma,n,1)\n",
        "plt.plot(tc[:300],Ic[:300].detach(),tc[:300],Iobs[:300])"
      ],
      "execution_count": 6,
      "outputs": [
        {
          "output_type": "execute_result",
          "data": {
            "text/plain": [
              "[<matplotlib.lines.Line2D at 0x7f33e6f7af10>,\n",
              " <matplotlib.lines.Line2D at 0x7f33e6f86150>]"
            ]
          },
          "metadata": {
            "tags": []
          },
          "execution_count": 6
        },
        {
          "output_type": "display_data",
          "data": {
            "image/png": "[encoded data removed]",
            "text/plain": [
              "<Figure size 432x288 with 1 Axes>"
            ]
          },
          "metadata": {
            "tags": [],
            "needs_background": "light"
          }
        }
      ]
    },
    {
      "cell_type": "markdown",
      "metadata": {
        "id": "DRW-7wEom4ow"
      },
      "source": [
        "While we can predict the general trend of the first 270 days or so, we fail in predicting the rest or even smaller oscilations. To this end we will need to use a time variying $\\beta$."
      ]
    },
    {
      "cell_type": "code",
      "metadata": {
        "colab": {
          "base_uri": "https://localhost:8080/",
          "height": 299
        },
        "id": "86dkh47cn92O",
        "outputId": "39e1db76-854d-43b7-bee9-1e2bb8341ca9"
      },
      "source": [
        "S0 = 0.99999\n",
        "I0 = 0.00001\n",
        "n  = Iobs.shape[0]\n",
        "\n",
        "# beta \n",
        "beta = 0.04*torch.ones(n,dtype=torch.float32)\n",
        "# change beta after 290 days\n",
        "beta[290:] = 0.005\n",
        "gamma = 0.015\n",
        "Sc, Ic, tc = SIRmodel(S0,I0,beta,gamma,n,1)\n",
        "plt.plot(tc[:400],Ic[:400].detach(),tc[:400],Iobs[:400])"
      ],
      "execution_count": 7,
      "outputs": [
        {
          "output_type": "execute_result",
          "data": {
            "text/plain": [
              "[<matplotlib.lines.Line2D at 0x7f33e6f084d0>,\n",
              " <matplotlib.lines.Line2D at 0x7f33e6f086d0>]"
            ]
          },
          "metadata": {
            "tags": []
          },
          "execution_count": 7
        },
        {
          "output_type": "display_data",
          "data": {
            "image/png": "[encoded data removed]",
            "text/plain": [
              "<Figure size 432x288 with 1 Axes>"
            ]
          },
          "metadata": {
            "tags": [],
            "needs_background": "light"
          }
        }
      ]
    },
    {
      "cell_type": "markdown",
      "metadata": {
        "id": "533roqyZoWkZ"
      },
      "source": [
        "Indeed, the kink in the graph represents the time COVID regulation became much harsher. \n",
        "\n",
        "This $\\beta$ gives a general idea of what happened. To get more details we need to adjust $\\beta$ such that the lines fit. This is too complicated to do manually so we turn to computerized methods of doing it."
      ]
    },
    {
      "cell_type": "markdown",
      "metadata": {
        "id": "SaMgn6WgpdZa"
      },
      "source": [
        "\n",
        "**The basic idea of data fitting**\n",
        "\n",
        "We have simulated (computed) data $I_c$ and we have the real data $I_{\\rm obs}$. How do we know if they are similar?\n",
        "\n",
        "This is done by introducing the idea of a loss function.\n",
        "The loss function is typically small if $I_c$ and $I_{\\rm obs}$ are similar. Below are a few examples of loss functions\n",
        "\n",
        "Mean Square Error\n",
        "$$ MSE = {\\frac 1n} \\|I_c - I_{\\rm obs}\\|^2 $$\n",
        "\n",
        "$L_1$ Error\n",
        "$$ MSE = {\\frac 1n} \\sum_n |I_{c_i} - I_{\\rm obs_i}| $$\n",
        "\n",
        "\n",
        "Correlation loss\n",
        "$$ Corr = -{\\frac 1n} I_c^{\\top}I_{\\rm obs} $$\n",
        "The correlation is less sensitive to the amplitudes of the data and is related to the shape.\n",
        "\n",
        "Choosing the \"right\" loss depends on the problem we wish to solve. The most used loss is the mean square error loss.\n",
        "\n",
        "Given the loss we can try to predict what is the \"best\" $\\beta$ to be used. The best one is the one that minimizes the loss as it best fit the data (this is up to cross validation)"
      ]
    },
    {
      "cell_type": "markdown",
      "metadata": {
        "id": "IqSQ1A_YWjn9"
      },
      "source": [
        "**Minimizing a function**\n",
        "\n",
        "Suppose that we have a function of some parameters $\\beta$, how should we minimize the function with respect to it?\n",
        "\n",
        "One way to do it (which you may have learned in calculus) is to solve for the minimum explicitly, however, this is almost never doable. A more practical approach is to use an iterative procidure.\n",
        "\n",
        "Assume that we have a point $\\beta_k$ and that we have an associated loss\n",
        "$loss(\\beta_k)$. Rather than trying to find an optimal point we try to find a new point $\\beta_{k+1}$ such that $loss(\\beta_{k+1}) < loss(\\beta_k)$. To do that we write $\\beta_{k+1} = \\beta_k + \\delta \\beta$ and use Taylor's theorem that states that\n",
        "$$ loss(\\beta_{k+1}) = loss(\\beta_{k} + \\delta \\beta) = loss(\\beta_{k}) + (\\nabla_{\\beta} loss)^{\\top} \\delta \\beta + H.O.T $$\n",
        "Negglecting the Higher Order Terms we see that the loss at $\\beta_{k+1}$ is equal to the loss at $\\beta_k$ and a correction term of the form $(\\nabla_{\\beta} loss)^{\\top} \\delta \\beta$. This term is an inner product between two vectors, the gradient of the loss with respect to $\\beta$ and the perturbation $\\delta \\beta$. To make the loss as small as possible we therefore choose\n",
        "$$ \\delta \\beta = - \\mu \\nabla_{\\beta} loss $$\n",
        "where $\\mu$ is a parameter that is chosen such that indeed the H.O.T is small relative to the first term in the Taylor's expansion.\n",
        "\n",
        "This leads to the following algorithm\n",
        "\n",
        "Steepest Descent\n",
        "1. Compute $loss(\\beta)$ and $\\nabla_{\\beta} loss$\n",
        "2. Set $\\beta \\leftarrow \\beta - \\mu \\nabla_{\\beta} loss$"
      ]
    },
    {
      "cell_type": "markdown",
      "metadata": {
        "id": "RCqRvmX_aQUN"
      },
      "source": [
        "\n",
        "**Computing Derivatives**\n",
        "\n",
        "In principle we all think we know how to compute derivatives. Indeed, this is a basic operation and we all learned how to compute derivatives of polynomials and other basic functions. \n",
        "\n",
        "However, what if we have a more complex function. Consider for a moment the following function"
      ]
    },
    {
      "cell_type": "code",
      "metadata": {
        "id": "1cCeCKwIawHp"
      },
      "source": [
        "def simpleIntegrator(y0,beta,dt,n):\n",
        "  Y = torch.zeros(n+1)\n",
        "  y = y0\n",
        "  Y[0] = y\n",
        "  for i in range(n):\n",
        "    y = y + dt*beta[i]*y\n",
        "    Y[i+1] = y\n",
        "\n",
        "  return Y \n",
        "  \n",
        "   \n",
        "    "
      ],
      "execution_count": 29,
      "outputs": []
    },
    {
      "cell_type": "code",
      "metadata": {
        "colab": {
          "base_uri": "https://localhost:8080/"
        },
        "id": "zaTFf8UMKuYx",
        "outputId": "9ead3f09-4048-423a-e4dc-5508ada9e127"
      },
      "source": [
        "# Make the data torch variable\n",
        "Iobs = torch.tensor(Iobs,dtype=torch.float32)\n",
        "N = torch.numel(Iobs)-1\n",
        "# step size\n",
        "mu      = 1e-3\n",
        "\n",
        "numiter = 10\n",
        "\n",
        "for i in range(numiter):\n",
        "    #  compute function and its gradient\n",
        "    I0 = Iobs[0]\n",
        "    S0 =  1.0-I0\n",
        "    \n",
        "    # Make beta a parameter that we can compute gradients \n",
        "    beta = torch.tensor(beta, requires_grad=True)\n",
        "    # Evaluate the objective function\n",
        "    Sc, Ic, tc = SIRmodel(S0,I0,beta,gamma,N,1)\n",
        "    loss = F.mse_loss(Ic,Iobs)/F.mse_loss(Iobs*0,Iobs)\n",
        "    \n",
        "    # Compute gradients\n",
        "    loss.backward()\n",
        "    gradLoss = beta.grad\n",
        "    # update the parameters\n",
        "    with torch.no_grad():\n",
        "      beta -= mu*gradLoss\n",
        "      \n",
        "      \n",
        "    if i%1==0:\n",
        "      print(i, loss.item(), torch.norm(gradLoss).item())\n",
        "    "
      ],
      "execution_count": 28,
      "outputs": [
        {
          "output_type": "stream",
          "text": [
            "/usr/local/lib/python3.7/dist-packages/ipykernel_launcher.py:2: UserWarning: To copy construct from a tensor, it is recommended to use sourceTensor.clone().detach() or sourceTensor.clone().detach().requires_grad_(True), rather than torch.tensor(sourceTensor).\n",
            "  \n",
            "/usr/local/lib/python3.7/dist-packages/ipykernel_launcher.py:15: UserWarning: To copy construct from a tensor, it is recommended to use sourceTensor.clone().detach() or sourceTensor.clone().detach().requires_grad_(True), rather than torch.tensor(sourceTensor).\n",
            "  from ipykernel import kernelapp as app\n"
          ],
          "name": "stderr"
        },
        {
          "output_type": "stream",
          "text": [
            "0 0.03188282623887062 0.3657950460910797\n",
            "1 0.0317496620118618 0.36231154203414917\n",
            "2 0.031619004905223846 0.3588975965976715\n",
            "3 0.03149080649018288 0.3555504083633423\n",
            "4 0.03136497735977173 0.35227078199386597\n",
            "5 0.031241431832313538 0.34905579686164856\n",
            "6 0.031120162457227707 0.3459048271179199\n",
            "7 0.031001083552837372 0.34281662106513977\n",
            "8 0.030884049832820892 0.33978939056396484\n",
            "9 0.030769100412726402 0.3368232846260071\n"
          ],
          "name": "stdout"
        }
      ]
    },
    {
      "cell_type": "markdown",
      "metadata": {
        "id": "e7_yfAHUaFDP"
      },
      "source": [
        ""
      ]
    },
    {
      "cell_type": "code",
      "metadata": {
        "id": "TnaUUxopQ2lt",
        "colab": {
          "base_uri": "https://localhost:8080/",
          "height": 299
        },
        "outputId": "b193cd7c-f379-41eb-be8c-fec21c5a2d6b"
      },
      "source": [
        "#Sc, Ic, tc = SIRmodel(S0,I0,beta,gamma,N,1)\n",
        "plt.plot(tc[:400],Ic[:400].detach(),tc[:400],Iobs[:400])\n"
      ],
      "execution_count": 45,
      "outputs": [
        {
          "output_type": "execute_result",
          "data": {
            "text/plain": [
              "[<matplotlib.lines.Line2D at 0x7f40ddaa73d0>,\n",
              " <matplotlib.lines.Line2D at 0x7f40ddaa75d0>]"
            ]
          },
          "metadata": {
            "tags": []
          },
          "execution_count": 45
        },
        {
          "output_type": "display_data",
          "data": {
            "image/png": "[encoded data removed]",
            "text/plain": [
              "<Figure size 432x288 with 1 Axes>"
            ]
          },
          "metadata": {
            "tags": [],
            "needs_background": "light"
          }
        }
      ]
    },
    {
      "cell_type": "code",
      "metadata": {
        "id": "I-6Rl4agMGAk",
        "colab": {
          "base_uri": "https://localhost:8080/",
          "height": 282
        },
        "outputId": "07056eca-587c-4678-8c66-67c85cf80311"
      },
      "source": [
        "plt.plot(beta.detach())"
      ],
      "execution_count": 46,
      "outputs": [
        {
          "output_type": "execute_result",
          "data": {
            "text/plain": [
              "[<matplotlib.lines.Line2D at 0x7f40dda13f50>]"
            ]
          },
          "metadata": {
            "tags": []
          },
          "execution_count": 46
        },
        {
          "output_type": "display_data",
          "data": {
            "image/png": "[encoded data removed]",
            "text/plain": [
              "<Figure size 432x288 with 1 Axes>"
            ]
          },
          "metadata": {
            "tags": [],
            "needs_background": "light"
          }
        }
      ]
    },
    {
      "cell_type": "code",
      "metadata": {
        "id": "p8xe2HpuIzvw"
      },
      "source": [
        "def SD(func,theta0,numiter,mu):\n",
        "# SD(func,theta0,numiter,mu)\n",
        "    \n",
        "    theta = theta0\n",
        "\n",
        "    for i in range(numiter):\n",
        "        #  compute function and its gradient\n",
        "        f = func(theta)\n",
        "        # Compute gradients\n",
        "        f.backward()\n",
        "        gradf = theta.grad\n",
        "        \n",
        "        print(i, f, torch.norm(gradf))\n",
        "        \n",
        "        #  update theta <- theta - mu*grad f\n",
        "        with torch.no_grad():\n",
        "            theta -= mu*gradf\n",
        "            \n",
        "            theta.grad.fill_(0.0)\n",
        "            \n",
        "    return theta\n",
        "    \n",
        "#\n",
        "#  return theta"
      ],
      "execution_count": null,
      "outputs": []
    },
    {
      "cell_type": "code",
      "metadata": {
        "id": "6mc-QtfpMAwo"
      },
      "source": [
        "D^TG^TW^T\\sigma(K(WGDu))\n",
        "\n",
        "optuna"
      ],
      "execution_count": null,
      "outputs": []
    },
    {
      "cell_type": "code",
      "metadata": {
        "id": "Qjsl2Y36Izvx"
      },
      "source": [
        ""
      ],
      "execution_count": null,
      "outputs": []
    },
    {
      "cell_type": "code",
      "metadata": {
        "id": "jM1sY1nfIzvx"
      },
      "source": [
        ""
      ],
      "execution_count": null,
      "outputs": []
    },
    {
      "cell_type": "code",
      "metadata": {
        "id": "NuCNkz_5Izvy"
      },
      "source": [
        ""
      ],
      "execution_count": null,
      "outputs": []
    },
    {
      "cell_type": "code",
      "metadata": {
        "id": "2eykMu4xIzvy"
      },
      "source": [
        ""
      ],
      "execution_count": null,
      "outputs": []
    },
    {
      "cell_type": "code",
      "metadata": {
        "id": "nRc32BaiIzvy"
      },
      "source": [
        ""
      ],
      "execution_count": null,
      "outputs": []
    },
    {
      "cell_type": "code",
      "metadata": {
        "id": "SQa6d4McIzvz"
      },
      "source": [
        ""
      ],
      "execution_count": null,
      "outputs": []
    },
    {
      "cell_type": "code",
      "metadata": {
        "id": "pKv5e3aqIzvz"
      },
      "source": [
        ""
      ],
      "execution_count": null,
      "outputs": []
    },
    {
      "cell_type": "code",
      "metadata": {
        "id": "DOlb1wjQaPYv"
      },
      "source": [
        ""
      ],
      "execution_count": null,
      "outputs": []
    },
    {
      "cell_type": "code",
      "metadata": {
        "id": "ACpMDDVBaTVW"
      },
      "source": [
        "print(b)"
      ],
      "execution_count": null,
      "outputs": []
    },
    {
      "cell_type": "code",
      "metadata": {
        "id": "9-nRO_sraVBf"
      },
      "source": [
        ""
      ],
      "execution_count": null,
      "outputs": []
    }
  ]
}