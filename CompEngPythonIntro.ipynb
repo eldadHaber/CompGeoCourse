{
  "nbformat": 4,
  "nbformat_minor": 0,
  "metadata": {
    "colab": {
      "name": "CompEngPythonIntro.ipynb",
      "provenance": [],
      "collapsed_sections": [],
      "authorship_tag": "ABX9TyOhgapshKaHb3ATuGFkSyOM",
      "include_colab_link": true
    },
    "kernelspec": {
      "name": "python3",
      "display_name": "Python 3"
    },
    "language_info": {
      "name": "python"
    }
  },
  "cells": [
    {
      "cell_type": "markdown",
      "metadata": {
        "id": "view-in-github",
        "colab_type": "text"
      },
      "source": [
        "<a href=\"https://colab.research.google.com/github/eldadHaber/CompGeoCourse/blob/main/CompEngPythonIntro.ipynb\" target=\"_parent\"><img src=\"https://colab.research.google.com/assets/colab-badge.svg\" alt=\"Open In Colab\"/></a>"
      ]
    },
    {
      "cell_type": "code",
      "execution_count": null,
      "metadata": {
        "id": "ypqk7Ti1U4vZ"
      },
      "outputs": [],
      "source": [
        "import os, sys\n",
        "import torch\n",
        "import torch.nn as nn\n",
        "import torch.nn.functional as F\n",
        "import numpy as np\n",
        "import matplotlib.pyplot as plt"
      ]
    },
    {
      "cell_type": "markdown",
      "source": [
        "**Python Tutorial**\n",
        "\n",
        "In this notebook you will practice basic python commands.\n",
        "We will use (mainly) two packages in this course. The first is numpy/scipy and the second is pytorch. Both packages has many functions that makes scientific code writing easy.\n",
        "\n",
        "We will solve scientific problems using computational techniques. The main tools we use is the ability to manipulate arrays, that is, vectors, matrices and tensors.\n",
        "\n",
        "We will start by doing the following assignment\n",
        "\n",
        "https://www.w3schools.com/python/numpy/default.asp\n",
        "\n",
        "\n",
        "After you complete the reading and the quiz you need to code the following problem.\n",
        "\n",
        "**Assignment**\n",
        "\n",
        "The approximation for the derivative of a function is\n",
        "$$ f'(x) = {\\frac 1h} (f(x+h) - f(x)) $$\n",
        "\n",
        "The following code computes $f$ as a function of $x$\n",
        "\n"
      ],
      "metadata": {
        "id": "qkfc_lpfVA38"
      }
    },
    {
      "cell_type": "code",
      "source": [
        "import numpy as np\n",
        "from scipy.sparse.csgraph import laplacian\n",
        "\n",
        "\n",
        "\n",
        "def regFun(x):\n",
        "  g = np.array([[1, 0, 0, 0],\n",
        "              [0, 1, 0, 1],\n",
        "              [0, 0, 0, 1],\n",
        "              [0, 1, 1, 1]])\n",
        "  A = laplacian(g)\n",
        "  I = np.eye(4,4)\n",
        "  b = np.array([1,-1,1,-1.0])\n",
        "  z = np.linalg.solve(A+x*I, b)\n",
        "  p = (b*z).sum()\n",
        "  return p"
      ],
      "metadata": {
        "id": "fp6pkrCOYeX_"
      },
      "execution_count": null,
      "outputs": []
    },
    {
      "cell_type": "markdown",
      "source": [
        "Write a code that approximate the derivative at the points $0, h, 2*h, ...,1$ and experiment with $h= {\\frac 14}, {\\frac 18}, ..., {\\frac 1{128}}$. \n",
        "Plot the function $regFun(x)$ and $regFun'(x)$ for $x \\in [0,1]$ "
      ],
      "metadata": {
        "id": "0BCq2vFsZ6y8"
      }
    },
    {
      "cell_type": "code",
      "source": [
        ""
      ],
      "metadata": {
        "id": "o9wMLYe4ZiRv"
      },
      "execution_count": null,
      "outputs": []
    },
    {
      "cell_type": "code",
      "source": [
        ""
      ],
      "metadata": {
        "id": "C5ZdBJjOZltu"
      },
      "execution_count": null,
      "outputs": []
    }
  ]
}