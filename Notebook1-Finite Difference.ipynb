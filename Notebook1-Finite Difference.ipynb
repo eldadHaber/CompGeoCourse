{
 "cells": [
  {
   "cell_type": "code",
   "execution_count": 1,
   "metadata": {},
   "outputs": [],
   "source": [
    "%matplotlib inline\n",
    "import torch\n",
    "import numpy as np\n",
    "import timeit\n",
    "import matplotlib.pyplot as plt"
   ]
  },
  {
   "cell_type": "markdown",
   "metadata": {},
   "source": [
    "# What will we do here\n",
    "\n",
    "1. Review derivatives\n",
    "2. Learn how to numerically compute them\n",
    "3. Code a little using numpy"
   ]
  },
  {
   "cell_type": "markdown",
   "metadata": {},
   "source": [
    "# Review and a little bit more\n",
    "\n",
    "This section surge as a short review for some of the background material that we need.\n",
    "It also introduced basic programming in Julia.\n",
    "\n"
   ]
  },
  {
   "cell_type": "markdown",
   "metadata": {},
   "source": [
    "## Derivatives and their approximation\n",
    "\n",
    "One of the fundamental tools we will use in this course is derivatives.\n",
    "We recall that the definition of the derivative is simply\n",
    "\\begin{eqnarray}\n",
    "\\label{der}\n",
    "{\\frac {df}{dx}} |_{x_{0}} =\\lim_{h\\rightarrow 0} {\\frac { f(x_{0} +h) - f(x_{0})}{h}}\n",
    "\\end{eqnarray}\n",
    "Similarly, for multivariable functions we have that\n",
    "\\begin{eqnarray}\n",
    "\\label{derxy}\n",
    "{\\frac {\\partial f(x,y)}{ \\partial x}} |_{x_{0},y_{0}} =\\lim_{h\\rightarrow 0} {\\frac { f(x_{0} +h,y_{0}) - f(x_{0},y_{0})}{h}}\n",
    "\\end{eqnarray}\n",
    "\n",
    "We can also define a directional derivative in direction $\\vec n = [n_{1},n_{2}]$ with\n",
    "$\\|\\vec n\\|^{2} = n_{1}^{2}+n_{2}^{2} = 1$ as\n",
    "\n",
    "$$\n",
    "{\\frac {\\partial f(x,y)}{ \\partial \\vec n}} |_{x_{0},y_{0}} =\\lim_{h\\rightarrow 0} {\\frac { f(x_{0} +h n_{1},y_{0} +h n_{2}) - f(x_{0},y_{0})}{h}} = \\nabla f(x_{0},y_{0}) \\cdot \\vec n\n",
    "$$\n",
    "\n",
    "Here we define the gradient as\n",
    "$$ \\nabla f(x_{0},y_{0}) = \\begin{pmatrix} {\\frac {\\partial f(x,y)}{ \\partial x}} |_{x_{0},y_{0}} \\\\\n",
    "{\\frac {\\partial f(x,y)}{ \\partial y}} |_{x_{0},y_{0}} \\end{pmatrix}.$$\n",
    "and we use the dot as the dot product between 2 vectors.\n",
    "\n"
   ]
  },
  {
   "cell_type": "markdown",
   "metadata": {},
   "source": [
    "If the function $f$ is given explicitly, then we can compute the derivative using the tools that\n",
    "are taught in calculus. The problem arises when the function is not given analytically. For example,\n",
    "consider the case that $f(t)$ is the price of a stock or the temperature in a particular place.\n",
    "This is where we need to use {\\em numerical differentiation}. The idea is to {\\em approximate} the quantity\n",
    "we are after in a controlled way.\n",
    "\n",
    "To start, we use a small $h$ and approximate the derivative as\n",
    "\\begin{eqnarray}\n",
    "\\label{ader}\n",
    "{\\frac {df}{dx}} |_{x_{0}} \\approx {\\frac { f(x_{0} +h) - f(x_{0})}{h}}\n",
    "\\end{eqnarray}\n",
    "The question is, what is ``small'' means? and how would we control the error?\n",
    "\n",
    "To answer this question we use the Taylor expansion\n",
    "$$ f(x+h) = f(x) + h {\\frac {df}{dx}} + \\frac 12 h^{2} {\\frac {d^{2}f}{dx^{2}}} + {\\frac 16} h^{3} {\\frac {d^{3}f}{dx^{3}}} + ...\n",
    "$$\n",
    "which implies that\n",
    "$$ {\\frac { f(x +h) - f(x)}{h}} = {\\frac {df}{dx}} + \\frac 12 h {\\frac {d^{2}f}{dx^{2}}} + {\\frac 16} h^{2} {\\frac {d^{3}f}{dx^{3}}} + ... $$\n",
    "\n",
    "\n",
    "If $h$ is small then we have that the terms after $h$ are much smaller than leading term and therefore\n",
    "we can say that the leading error behaves like $h$ or\n",
    " $$ {\\frac { f(x +h) - f(x)}{h}} = {\\frac {df}{dx}} + {\\cal O}(h).$$\n",
    "The symbol ${\\cal O}(h)$ implies that the error is of order $h$.\n",
    "\n",
    "We can obtain a better expression (in terms of accuracy) by combining the following\n",
    "\\begin{eqnarray}\n",
    "\\nonumber\n",
    "&& {\\frac { f(x +h) - f(x)}{h}} = {\\frac {df}{dx}} + \\frac 12 h {\\frac {d^{2}f}{dx^{2}}} + {\\frac 16} h^{2} {\\frac {d^{3}f}{dx^{3}}} + ... \\\\\n",
    "\\nonumber\n",
    "&& {\\frac { f(x) - f(x-h)}{h}} = {\\frac {df}{dx}} - \\frac 12 h {\\frac {d^{2}f}{dx^{2}}} + {\\frac 16} h^{2} {\\frac {d^{3}f}{dx^{3}}} + ...\n",
    "\\end{eqnarray}\n",
    "and adding the expressions to have\n",
    " $$ {\\frac { f(x +h) - f(x-h)}{2h}} = {\\frac {df}{dx}} + {\\cal O}(h^{2}).$$\n",
    "\n",
    " Using the point $x+h$ and $x$ to approximate the derivative is often refers as the forward difference\n",
    " while using the point $x-h$ is referred as the backward difference. Using the points $x+h$ and $x-h$\n",
    " is referred to as the central or long difference."
   ]
  },
  {
   "cell_type": "code",
   "execution_count": null,
   "metadata": {},
   "outputs": [],
   "source": []
  },
  {
   "cell_type": "markdown",
   "metadata": {},
   "source": [
    "## Computing derivatives\n",
    "\n",
    "Consider now the computation of the derivative for a function $f$. First we need to sample\n",
    "$f$ at some points. To this end we define the {\\bf grid function} ${\\bf f} = [f(x_{1}),\\ldots,f(x_{n})]^{\\top}$.\n",
    "The grid function is the function $f$ discretized on the points $x_{1},\\ldots,x_{n}$.\n",
    "For simplicity, assume that the interval $x_{j+1} - x_{j} = h$ is constant. Using the formulas above we\n",
    "obtain that the upwind approximation is\n",
    "$$ {\\frac {\\partial f}{\\partial x}}|_{x_{i}} \\approx {\\frac 1h} ({\\bf f}_{i+1} - {\\bf f}_{i}) + {\\cal O}(h), $$\n",
    "the downwind approximation is\n",
    "$$ {\\frac {\\partial f}{\\partial x}}|_{x_{i}} \\approx {\\frac 1h} ({\\bf f}_{i} - {\\bf f}_{i-1}) + {\\cal O}(h), $$\n",
    "and the central approximation is\n",
    "$$ {\\frac {\\partial f}{\\partial x}}|_{x_{i}} \\approx {\\frac 1{2h}} ({\\bf f}_{i+1} - {\\bf f}_{i-1}) + {\\cal O}(h^{2}). $$\n",
    "\n",
    "There is one important thing to note and this is the treatment of the derivative on the boundary.\n",
    "The upwind approximation cannot be used for the end of the grid while the downwind cannot be used\n",
    "for the first point on the grid. Finally, the central difference can be used only inside the grid.\n",
    "If we wish to use the central difference also on the boundary then we need boundary conditions.\n",
    "\n",
    "At this point it is useful to add the concept of a staggered grid. The idea is to use second order\n",
    "accurate derivative using only two neighbors. To this end we introduce another grid at points\n",
    "$[x_{3/2},x_{5/3},\\ldots,x_{n-\\frac 12}]$ and note that\n",
    "$$ f(x_{i+\\frac 12}) = {\\frac 1h} ({\\bf f}_{i+1} - {\\bf f}_{i}) + {\\cal O}(h^2). $$\n",
    "\n",
    "\n",
    "Coding the derivative in Python is straight forward. Here we code the long difference."
   ]
  },
  {
   "cell_type": "code",
   "execution_count": 43,
   "metadata": {},
   "outputs": [],
   "source": [
    "def computeDerivative(f,h):\n",
    "    \n",
    "    df = (f[2:] - f[0:-2])/(2*h)\n",
    "    return df"
   ]
  },
  {
   "cell_type": "markdown",
   "metadata": {},
   "source": [
    "# Code testing\n",
    "\n",
    "It is important to be able to test the code and see that  it works as suggested by the theory.\n",
    "When reviewing code it is important to be skeptic and not believe that the code is working\n",
    "until proven otherwise.\n",
    "\n",
    "To this end we conduct a simple experiment to show that our code works.\n",
    "We pick a function $f$ and computes its derivatives for different $h$'s. Our goal\n",
    "is to see that the error of the second order behaves as $h^{2}$.\n",
    " "
   ]
  },
  {
   "cell_type": "code",
   "execution_count": 50,
   "metadata": {},
   "outputs": [
    {
     "name": "stdout",
     "output_type": "stream",
     "text": [
      "0.2        1.236099270842573\n",
      "0.1111111111111111        0.4680579061691299\n",
      "0.058823529411764705        0.13965785137885778\n",
      "0.030303030303030304        0.03772265521553031\n",
      "0.015384615384615385        0.009769026390873847\n",
      "0.007751937984496124        0.002483296739370644\n",
      "0.0038910505836575876        0.0006258592566945609\n",
      "0.001949317738791423        0.00015708771532541022\n"
     ]
    }
   ],
   "source": [
    "pi = 3.1415926535\n",
    "for i in np.arange(2,10):\n",
    "    n = 2**i\n",
    "    x = np.arange(n+2)/(n+1)\n",
    "    h = 1/(n+1)\n",
    "    \n",
    "    f      = np.sin(2*pi*x)\n",
    "    \n",
    "    dfTrue = 2*pi*np.cos(2*pi*x)\n",
    "    dfComp = computeDerivative(f,h)\n",
    "    \n",
    "    # dont use boundaries\n",
    "    dfTrue = dfTrue[1:-1]\n",
    "    \n",
    "    res = np.abs(dfTrue - dfComp)\n",
    "    print(h,  '      ',   np.max(res))"
   ]
  },
  {
   "cell_type": "code",
   "execution_count": null,
   "metadata": {},
   "outputs": [],
   "source": []
  },
  {
   "cell_type": "markdown",
   "metadata": {},
   "source": [
    "# More accurate and one sided derivatives\n",
    "\n",
    "We have computed deribvatives in rhe interior of our domain using a central difference giving us accuracy of ${\\cal O}(h^2). However, this cannot be used for the first or the last point in our array. We therefore want to derive a second order formula that uses points only in one side of the interval.\n",
    "\n",
    "Consider the last point in our domain $x_n$ with the function value ${\\bf f}_n$. We use the same trick as before\n",
    "and apply Taylor's theorem to obtain\n",
    "\\begin{eqnarray}\n",
    "{\\bf f}_{n-1} &=& {\\bf f}_n - h {\\bf f}_x + {\\frac {h^2}2} {\\bf f}_{xx} + {\\cal O}(h^3) \\\\\n",
    "{\\bf f}_{n-2} &=& {\\bf f}_n - 2h {\\bf f}_x + 2h^2 {\\bf f}_{xx} + {\\cal O}(h^3) \n",
    "\\end{eqnarray}\n",
    "\n",
    "Multiplying the first equation by 4 we obtain that\n",
    "\\begin{eqnarray}\n",
    "4{\\bf f}_{n-1} &=& 4{\\bf f}_n - 4h {\\bf f}_x + 2h^2 {\\bf f}_{xx} + {\\cal O}(h^3) \\\\\n",
    "{\\bf f}_{n-2} &=& {\\bf f}_n - 2h {\\bf f}_x + 2h^2 {\\bf f}_{xx} + {\\cal O}(h^3) \n",
    "\\end{eqnarray}\n",
    "\n",
    "We then subtract the equations to obtain\n",
    "\\begin{eqnarray}\n",
    "4{\\bf f}_{n-1} - {\\bf f}_{n-2} = 3{\\bf f}_n - 2h {\\bf f}_x  + {\\cal O}(h^3) \\\\\n",
    "\\end{eqnarray}\n",
    "\n",
    "We can isolate ${\\bf f}_x$ and obtain\n",
    "\\begin{eqnarray}\n",
    " {\\bf f}_x = {\\frac {3{\\bf f}_n - 4{\\bf f}_{n-1} + {\\bf f}_{n-2}}{ 2h}}   + {\\cal O}(h^2) \n",
    "\\end{eqnarray}\n",
    "\n",
    "$$. $$\n",
    "\n",
    "Similarly you can find that it is possible to use points to the right of ${\\bf f}_n$ to compute the derivatives \n",
    "\\begin{eqnarray}\n",
    " {\\bf f}_x = {\\frac {-3{\\bf f}_n + 4{\\bf f}_{n+1} - {\\bf f}_{n+2}}{ 2h}}   + {\\cal O}(h^2) \n",
    "\\end{eqnarray}\n",
    "\n",
    "\n",
    "\n",
    "\n"
   ]
  },
  {
   "cell_type": "markdown",
   "metadata": {},
   "source": [
    "# Class assignmets \n",
    "\n",
    "Derive the above formula"
   ]
  },
  {
   "cell_type": "markdown",
   "metadata": {},
   "source": [
    "# Class assignmets\n",
    "\n",
    "Modify the following code to handle boundary points "
   ]
  },
  {
   "cell_type": "code",
   "execution_count": 53,
   "metadata": {},
   "outputs": [],
   "source": [
    "def computeDerivativeBC(f,h):\n",
    "    \n",
    "    n  = f.shape\n",
    "    df = np.zeros(n)\n",
    "    df[1:-1] = (f[2:] - f[0:-2])/(2*h)\n",
    "    \n",
    "    # Your code here\n",
    "    #df[0] = \n",
    "    #df[-1] = \n",
    "    \n",
    "    return df"
   ]
  },
  {
   "cell_type": "markdown",
   "metadata": {},
   "source": [
    "# Class assignmets\n",
    "Design a test for the code similar to our test above abd verify its working as planned"
   ]
  },
  {
   "cell_type": "code",
   "execution_count": null,
   "metadata": {},
   "outputs": [],
   "source": []
  },
  {
   "cell_type": "code",
   "execution_count": null,
   "metadata": {},
   "outputs": [],
   "source": []
  }
 ],
 "metadata": {
  "kernelspec": {
   "display_name": "Python 3",
   "language": "python",
   "name": "python3"
  },
  "language_info": {
   "codemirror_mode": {
    "name": "ipython",
    "version": 3
   },
   "file_extension": ".py",
   "mimetype": "text/x-python",
   "name": "python",
   "nbconvert_exporter": "python",
   "pygments_lexer": "ipython3",
   "version": "3.7.4"
  }
 },
 "nbformat": 4,
 "nbformat_minor": 4
}
