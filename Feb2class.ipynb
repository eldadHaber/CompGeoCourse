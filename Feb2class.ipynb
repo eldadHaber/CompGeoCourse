{
  "nbformat": 4,
  "nbformat_minor": 0,
  "metadata": {
    "colab": {
      "name": "Feb2class.ipynb",
      "provenance": []
    },
    "kernelspec": {
      "name": "python3",
      "display_name": "Python 3"
    }
  },
  "cells": [
    {
      "cell_type": "code",
      "metadata": {
        "id": "84ZjD8WMoQ4x"
      },
      "source": [
        "import torch\n",
        "import numpy as np\n",
        "import matplotlib.pyplot as plt\n",
        "import time"
      ],
      "execution_count": null,
      "outputs": []
    },
    {
      "cell_type": "code",
      "metadata": {
        "id": "l5eiqhQRoYwK"
      },
      "source": [
        "def gradient(F,h):\n",
        "  # F in 2D\n",
        "  n = F.shape\n",
        "  Fx = torch.zeros(n[0]-2,n[1])\n",
        "  Fy = torch.zeros(n[0],n[1]-2)\n",
        "  # Compute derivative wrt x\n",
        "  for i in range(1,n[0]-1):\n",
        "    for j in range(n[1]):\n",
        "      Fx[i-1,j] = (F[i+1,j] - F[i-1,j])/(2*h)\n",
        "\n",
        "  # Compute derivative wrt y\n",
        "  for i in range(n[0]):\n",
        "    for j in range(1,n[1]-1):\n",
        "      Fy[i,j-1] = (F[i,j+1] - F[i,j-1])/(2*h)\n",
        "\n",
        "  return Fx, Fy\n",
        "\n",
        "def gradientVec(F,h):\n",
        "\n",
        "  Fx = (F[2:,:] - F[:-2,:])/(2*h)\n",
        "  Fy = (F[:,2:] - F[:,:-2])/(2*h)\n",
        "  \n",
        "  return Fx, Fy\n",
        "  "
      ],
      "execution_count": null,
      "outputs": []
    },
    {
      "cell_type": "code",
      "metadata": {
        "colab": {
          "base_uri": "https://localhost:8080/"
        },
        "id": "XYTK7Sn2pDNo",
        "outputId": "e6946267-fb85-453e-bff4-d269eeccd9e4"
      },
      "source": [
        "#F = torch.arange(20).reshape(4,5)*1.0\n",
        "for i in range(4,10):\n",
        "  n1 = 2**i\n",
        "  n2 = 2**i\n",
        "  F = torch.randn(n1,n2)\n",
        "  #n = F.shape\n",
        "  #print('F = ', F)\n",
        "  h = 1.0\n",
        "  t1 = time.time()\n",
        "  Fx, Fy = gradient(F,h)\n",
        "  t2 = time.time()\n",
        "  Fxv, Fyv = gradientVec(F,h)\n",
        "  t3 = time.time()\n",
        "  print(torch.max(torch.abs(Fx-Fxv)),torch.max(torch.abs(Fy-Fyv)))\n",
        "  print('mesh size ', 2**i,'x',2**i, 'Time of Computations = ', t2-t1,'   ', t3-t2)"
      ],
      "execution_count": null,
      "outputs": [
        {
          "output_type": "stream",
          "text": [
            "tensor(0.) tensor(0.)\n",
            "mesh size  16 x 16 Time of Computations =  0.01741337776184082     0.00014019012451171875\n",
            "tensor(0.) tensor(0.)\n",
            "mesh size  32 x 32 Time of Computations =  0.047202348709106445     9.584426879882812e-05\n",
            "tensor(0.) tensor(0.)\n",
            "mesh size  64 x 64 Time of Computations =  0.19738411903381348     0.0001285076141357422\n",
            "tensor(0.) tensor(0.)\n",
            "mesh size  128 x 128 Time of Computations =  0.7834873199462891     0.00013113021850585938\n",
            "tensor(0.) tensor(0.)\n",
            "mesh size  256 x 256 Time of Computations =  3.1243815422058105     0.0008225440979003906\n",
            "tensor(0.) tensor(0.)\n",
            "mesh size  512 x 512 Time of Computations =  12.479034185409546     0.002635955810546875\n"
          ],
          "name": "stdout"
        }
      ]
    },
    {
      "cell_type": "code",
      "metadata": {
        "id": "QmatSsWzpKmi",
        "colab": {
          "base_uri": "https://localhost:8080/"
        },
        "outputId": "363cba38-aa4f-4986-896d-6124e7f63bef"
      },
      "source": [
        "12.47/0.00263"
      ],
      "execution_count": null,
      "outputs": [
        {
          "output_type": "execute_result",
          "data": {
            "text/plain": [
              "4741.444866920152"
            ]
          },
          "metadata": {
            "tags": []
          },
          "execution_count": 4
        }
      ]
    },
    {
      "cell_type": "code",
      "metadata": {
        "id": "_Fssnr1F1s_4"
      },
      "source": [
        "def peaksFun(x,y):\n",
        "    z =  3*(1-x)**2 * torch.exp(-(x**2) - (y+1)**2) - 10*(x/5 - x**3 - y**5)*torch.exp(-x**2-y**2) - 1/3*torch.exp(-(x+1)**2 - y**2)\n",
        "    \n",
        "    return z"
      ],
      "execution_count": null,
      "outputs": []
    },
    {
      "cell_type": "code",
      "metadata": {
        "id": "Yutj8LuD711S"
      },
      "source": [
        "t1 = torch.arange(-3,3.0001,0.1)\n",
        "t2 = torch.arange(-3,3.001,0.1)\n",
        "x,y = torch.meshgrid(t1,t2)\n",
        "#print(t1)\n",
        "#print(x)\n",
        "#print(y)"
      ],
      "execution_count": null,
      "outputs": []
    },
    {
      "cell_type": "code",
      "metadata": {
        "id": "8nq22oKz8Cx7"
      },
      "source": [
        "z = peaksFun(x,y)"
      ],
      "execution_count": null,
      "outputs": []
    },
    {
      "cell_type": "code",
      "metadata": {
        "colab": {
          "base_uri": "https://localhost:8080/",
          "height": 285
        },
        "id": "ahNnUURd9AF1",
        "outputId": "fc34f617-8905-4797-8853-3efb7270b30e"
      },
      "source": [
        "plt.imshow(z)"
      ],
      "execution_count": null,
      "outputs": [
        {
          "output_type": "execute_result",
          "data": {
            "text/plain": [
              "<matplotlib.image.AxesImage at 0x7fc446456400>"
            ]
          },
          "metadata": {
            "tags": []
          },
          "execution_count": 38
        },
        {
          "output_type": "display_data",
          "data": {
            "image/png": "[encoded data removed]",
            "text/plain": [
              "<Figure size 432x288 with 1 Axes>"
            ]
          },
          "metadata": {
            "tags": [],
            "needs_background": "light"
          }
        }
      ]
    },
    {
      "cell_type": "code",
      "metadata": {
        "colab": {
          "base_uri": "https://localhost:8080/",
          "height": 320
        },
        "id": "AwiFVvlU9MJq",
        "outputId": "c0deffa5-1257-4b39-89b7-18f09ef93fdc"
      },
      "source": [
        "print(z.shape)\n",
        "print(t1[1]-t1[0])\n",
        "Fx, Fy = gradientVec(z,t1[1]-t1[0])\n",
        "plt.imshow(Fy)"
      ],
      "execution_count": null,
      "outputs": [
        {
          "output_type": "stream",
          "text": [
            "torch.Size([61, 61])\n",
            "tensor(0.1000)\n"
          ],
          "name": "stdout"
        },
        {
          "output_type": "execute_result",
          "data": {
            "text/plain": [
              "<matplotlib.image.AxesImage at 0x7fc446398ef0>"
            ]
          },
          "metadata": {
            "tags": []
          },
          "execution_count": 40
        },
        {
          "output_type": "display_data",
          "data": {
            "image/png": "[encoded data removed]",
            "text/plain": [
              "<Figure size 432x288 with 1 Axes>"
            ]
          },
          "metadata": {
            "tags": [],
            "needs_background": "light"
          }
        }
      ]
    },
    {
      "cell_type": "code",
      "metadata": {
        "id": "cc-N_Kia9yJ3"
      },
      "source": [
        "# You are given n particles at locations [x_i,y_i] i=0,..,n-1\n",
        "# Goal is to compute the distance matrix between each to particles\n",
        "# D_{ij} = |r_i - r_j|^2  = (x_i - x_j)^2 + (y_i - y_j)^2 \n",
        "# The locations are stored in a matrix X = [x,y] x = X[:,0] and y = X[:,1]\n",
        "#\n",
        "\n",
        "def distMat(X):\n",
        "\n",
        "  n = X.shape[0]\n",
        "  print(n)\n",
        "  D = torch.zeros(n,n)\n",
        "  for i in range(n):\n",
        "    for j in range(n):\n",
        "      xi = X[i,0]\n",
        "      yi = X[i,1]\n",
        "      xj = X[j,0]\n",
        "      yj = X[j,1]\n",
        "      D[i,j] = (xi - xj)**2 + (yi - yj)**2\n",
        "\n",
        "  return D"
      ],
      "execution_count": null,
      "outputs": []
    },
    {
      "cell_type": "code",
      "metadata": {
        "colab": {
          "base_uri": "https://localhost:8080/"
        },
        "id": "u3cj5HX1BVRv",
        "outputId": "9f56e8d4-2aa8-4e39-bb50-a3eb651bfbbf"
      },
      "source": [
        "X = torch.rand(50,2)\n",
        "t1 = time.time()\n",
        "D = distMat(X)\n",
        "t2 = time.time()\n",
        "\n",
        "print(t2-t1)"
      ],
      "execution_count": null,
      "outputs": [
        {
          "output_type": "stream",
          "text": [
            "50\n",
            "0.12022852897644043\n"
          ],
          "name": "stdout"
        }
      ]
    },
    {
      "cell_type": "code",
      "metadata": {
        "id": "LeD65CktBda-"
      },
      "source": [
        "def distMatFast(X):\n",
        "  # XX = X@X.t()\n",
        "  # D = diag(XX) + diag(XX).t() - 2*XX\n",
        "  \n",
        "  XX = X@X.t()\n",
        "  d  = torch.diag(XX).unsqueeze(1)\n",
        "  D = d + d.t() - 2*XX\n",
        "\n",
        "  return D"
      ],
      "execution_count": null,
      "outputs": []
    },
    {
      "cell_type": "code",
      "metadata": {
        "colab": {
          "base_uri": "https://localhost:8080/"
        },
        "id": "yBllNWZSjqMN",
        "outputId": "e1fcb7e0-e6b5-484e-dd49-61fe9b3bf6b1"
      },
      "source": [
        "X = torch.rand(5000,2)\n",
        "t1 = time.time()\n",
        "D = distMatFast(X)\n",
        "t2 = time.time()\n",
        "\n",
        "print(t2-t1)"
      ],
      "execution_count": null,
      "outputs": [
        {
          "output_type": "stream",
          "text": [
            "0.14309287071228027\n"
          ],
          "name": "stdout"
        }
      ]
    },
    {
      "cell_type": "code",
      "metadata": {
        "id": "XgDXqWfpjwIt"
      },
      "source": [
        ""
      ],
      "execution_count": null,
      "outputs": []
    }
  ]
}